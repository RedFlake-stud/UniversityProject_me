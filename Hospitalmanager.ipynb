{
 "cells": [
  {
   "cell_type": "code",
   "execution_count": null,
   "id": "eab808e8",
   "metadata": {},
   "outputs": [],
   "source": [
    "import os\n",
    "from Main import Hospital\n",
    "\n",
    "class HospitalManager:\n",
    "    def __init__(self, data_dir=\"hospital_data\"):\n",
    "        self._hospitals = {}  # name -> Hospital instance\n",
    "        self._data_dir = data_dir\n",
    "        os.makedirs(data_dir, exist_ok=True)\n",
    "\n",
    "    def add_hospital(self, hospital):\n",
    "        self._hospitals[hospital._name] = hospital\n",
    "        self._save_hospital(hospital)\n",
    "\n",
    "    def get_hospital(self, name):\n",
    "        return self._hospitals.get(name, None)\n",
    "\n",
    "    def list_hospitals(self):\n",
    "        return list(self._hospitals.keys())\n",
    "\n",
    "    def _save_hospital(self, hospital):\n",
    "        filename = os.path.join(self._data_dir, f\"{hospital._name}.txt\")\n",
    "        hospital._filename = filename  # Update path for file saving\n",
    "        hospital.save_to_file()\n",
    "\n",
    "    def load_all_hospitals(self):\n",
    "        for file in os.listdir(self._data_dir):\n",
    "            if file.endswith(\".txt\"):\n",
    "                name = file[:-4]\n",
    "                hospital = Hospital(name)\n",
    "                hospital._filename = os.path.join(self._data_dir, file)\n",
    "                self._hospitals[name] = hospital\n"
   ]
  }
 ],
 "metadata": {
  "language_info": {
   "name": "python"
  }
 },
 "nbformat": 4,
 "nbformat_minor": 5
}
